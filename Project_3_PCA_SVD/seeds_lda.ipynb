{
 "cells": [
  {
   "cell_type": "code",
   "execution_count": 1,
   "metadata": {},
   "outputs": [],
   "source": [
    "from sklearn.datasets import load_wine\n",
    "import pandas as pd\n",
    "import numpy as np\n",
    "np.set_printoptions(precision=4)\n",
    "from matplotlib import pyplot as plt\n",
    "import seaborn as sns\n",
    "sns.set()\n",
    "from sklearn.preprocessing import LabelEncoder\n",
    "from sklearn.tree import DecisionTreeClassifier\n",
    "from sklearn.model_selection import train_test_split\n",
    "from sklearn.metrics import confusion_matrix\n",
    "from sklearn.preprocessing import StandardScaler"
   ]
  },
  {
   "cell_type": "code",
   "execution_count": 25,
   "metadata": {},
   "outputs": [],
   "source": [
    "pd.set_option('display.max_columns', None)\n",
    "seed_df = pd.read_csv(\"seeds_dataset.csv\", names=['area', 'perimeter', 'compactness', 'kernel_length', 'kernel_width',\n",
    "                                             'asymm_coeff', 'kernel_groove_length', 'class'])"
   ]
  },
  {
   "cell_type": "code",
   "execution_count": 26,
   "metadata": {},
   "outputs": [
    {
     "data": {
      "text/html": [
       "<div>\n",
       "<style scoped>\n",
       "    .dataframe tbody tr th:only-of-type {\n",
       "        vertical-align: middle;\n",
       "    }\n",
       "\n",
       "    .dataframe tbody tr th {\n",
       "        vertical-align: top;\n",
       "    }\n",
       "\n",
       "    .dataframe thead th {\n",
       "        text-align: right;\n",
       "    }\n",
       "</style>\n",
       "<table border=\"1\" class=\"dataframe\">\n",
       "  <thead>\n",
       "    <tr style=\"text-align: right;\">\n",
       "      <th></th>\n",
       "      <th>area</th>\n",
       "      <th>perimeter</th>\n",
       "      <th>compactness</th>\n",
       "      <th>kernel_length</th>\n",
       "      <th>kernel_width</th>\n",
       "      <th>asymm_coeff</th>\n",
       "      <th>kernel_groove_length</th>\n",
       "      <th>class</th>\n",
       "    </tr>\n",
       "  </thead>\n",
       "  <tbody>\n",
       "    <tr>\n",
       "      <th>0</th>\n",
       "      <td>15.26</td>\n",
       "      <td>14.84</td>\n",
       "      <td>0.8710</td>\n",
       "      <td>5.763</td>\n",
       "      <td>3.312</td>\n",
       "      <td>2.221</td>\n",
       "      <td>5.220</td>\n",
       "      <td>1</td>\n",
       "    </tr>\n",
       "    <tr>\n",
       "      <th>1</th>\n",
       "      <td>14.88</td>\n",
       "      <td>14.57</td>\n",
       "      <td>0.8811</td>\n",
       "      <td>5.554</td>\n",
       "      <td>3.333</td>\n",
       "      <td>1.018</td>\n",
       "      <td>4.956</td>\n",
       "      <td>1</td>\n",
       "    </tr>\n",
       "    <tr>\n",
       "      <th>2</th>\n",
       "      <td>14.29</td>\n",
       "      <td>14.09</td>\n",
       "      <td>0.9050</td>\n",
       "      <td>5.291</td>\n",
       "      <td>3.337</td>\n",
       "      <td>2.699</td>\n",
       "      <td>4.825</td>\n",
       "      <td>1</td>\n",
       "    </tr>\n",
       "    <tr>\n",
       "      <th>3</th>\n",
       "      <td>13.84</td>\n",
       "      <td>13.94</td>\n",
       "      <td>0.8955</td>\n",
       "      <td>5.324</td>\n",
       "      <td>3.379</td>\n",
       "      <td>2.259</td>\n",
       "      <td>4.805</td>\n",
       "      <td>1</td>\n",
       "    </tr>\n",
       "    <tr>\n",
       "      <th>4</th>\n",
       "      <td>16.14</td>\n",
       "      <td>14.99</td>\n",
       "      <td>0.9034</td>\n",
       "      <td>5.658</td>\n",
       "      <td>3.562</td>\n",
       "      <td>1.355</td>\n",
       "      <td>5.175</td>\n",
       "      <td>1</td>\n",
       "    </tr>\n",
       "  </tbody>\n",
       "</table>\n",
       "</div>"
      ],
      "text/plain": [
       "    area  perimeter  compactness  kernel_length  kernel_width  asymm_coeff  \\\n",
       "0  15.26      14.84       0.8710          5.763         3.312        2.221   \n",
       "1  14.88      14.57       0.8811          5.554         3.333        1.018   \n",
       "2  14.29      14.09       0.9050          5.291         3.337        2.699   \n",
       "3  13.84      13.94       0.8955          5.324         3.379        2.259   \n",
       "4  16.14      14.99       0.9034          5.658         3.562        1.355   \n",
       "\n",
       "   kernel_groove_length  class  \n",
       "0                 5.220      1  \n",
       "1                 4.956      1  \n",
       "2                 4.825      1  \n",
       "3                 4.805      1  \n",
       "4                 5.175      1  "
      ]
     },
     "execution_count": 26,
     "metadata": {},
     "output_type": "execute_result"
    }
   ],
   "source": [
    "seed_df.head()"
   ]
  },
  {
   "cell_type": "code",
   "execution_count": 27,
   "metadata": {},
   "outputs": [
    {
     "data": {
      "text/plain": [
       "area                    float64\n",
       "perimeter               float64\n",
       "compactness             float64\n",
       "kernel_length           float64\n",
       "kernel_width            float64\n",
       "asymm_coeff             float64\n",
       "kernel_groove_length    float64\n",
       "class                     int64\n",
       "dtype: object"
      ]
     },
     "execution_count": 27,
     "metadata": {},
     "output_type": "execute_result"
    }
   ],
   "source": [
    "seed_df.dtypes"
   ]
  },
  {
   "cell_type": "code",
   "execution_count": 61,
   "metadata": {},
   "outputs": [
    {
     "data": {
      "text/html": [
       "<div>\n",
       "<style scoped>\n",
       "    .dataframe tbody tr th:only-of-type {\n",
       "        vertical-align: middle;\n",
       "    }\n",
       "\n",
       "    .dataframe tbody tr th {\n",
       "        vertical-align: top;\n",
       "    }\n",
       "\n",
       "    .dataframe thead th {\n",
       "        text-align: right;\n",
       "    }\n",
       "</style>\n",
       "<table border=\"1\" class=\"dataframe\">\n",
       "  <thead>\n",
       "    <tr style=\"text-align: right;\">\n",
       "      <th></th>\n",
       "      <th>1</th>\n",
       "      <th>2</th>\n",
       "      <th>3</th>\n",
       "    </tr>\n",
       "  </thead>\n",
       "  <tbody>\n",
       "    <tr>\n",
       "      <th>area</th>\n",
       "      <td>14.334429</td>\n",
       "      <td>18.334286</td>\n",
       "      <td>11.873857</td>\n",
       "    </tr>\n",
       "    <tr>\n",
       "      <th>perimeter</th>\n",
       "      <td>14.294286</td>\n",
       "      <td>16.135714</td>\n",
       "      <td>13.247857</td>\n",
       "    </tr>\n",
       "    <tr>\n",
       "      <th>compactness</th>\n",
       "      <td>0.880070</td>\n",
       "      <td>0.883517</td>\n",
       "      <td>0.849409</td>\n",
       "    </tr>\n",
       "    <tr>\n",
       "      <th>kernel_length</th>\n",
       "      <td>5.508057</td>\n",
       "      <td>6.148029</td>\n",
       "      <td>5.229514</td>\n",
       "    </tr>\n",
       "    <tr>\n",
       "      <th>kernel_width</th>\n",
       "      <td>3.244629</td>\n",
       "      <td>3.677414</td>\n",
       "      <td>2.853771</td>\n",
       "    </tr>\n",
       "    <tr>\n",
       "      <th>asymm_coeff</th>\n",
       "      <td>2.667403</td>\n",
       "      <td>3.644800</td>\n",
       "      <td>4.788400</td>\n",
       "    </tr>\n",
       "    <tr>\n",
       "      <th>kernel_groove_length</th>\n",
       "      <td>5.087214</td>\n",
       "      <td>6.020600</td>\n",
       "      <td>5.116400</td>\n",
       "    </tr>\n",
       "  </tbody>\n",
       "</table>\n",
       "</div>"
      ],
      "text/plain": [
       "                              1          2          3\n",
       "area                  14.334429  18.334286  11.873857\n",
       "perimeter             14.294286  16.135714  13.247857\n",
       "compactness            0.880070   0.883517   0.849409\n",
       "kernel_length          5.508057   6.148029   5.229514\n",
       "kernel_width           3.244629   3.677414   2.853771\n",
       "asymm_coeff            2.667403   3.644800   4.788400\n",
       "kernel_groove_length   5.087214   6.020600   5.116400"
      ]
     },
     "execution_count": 61,
     "metadata": {},
     "output_type": "execute_result"
    }
   ],
   "source": [
    "class_feature_means = pd.DataFrame(columns=[1, 2, 3])\n",
    "for c, rows in seed_df.groupby('class'):\n",
    "    class_feature_means[c] = rows.mean()\n",
    "class_feature_means = class_feature_means.drop(['class'], axis=0)\n",
    "class_feature_means"
   ]
  },
  {
   "cell_type": "code",
   "execution_count": 65,
   "metadata": {},
   "outputs": [],
   "source": [
    "within_class_scatter_matrix = np.zeros((7,7))\n",
    "for c, rows in seed_df.groupby('class'):\n",
    "    rows = rows.drop(['class'], axis=1)\n",
    "s = np.zeros((7,7))\n",
    "\n",
    "for index, row in rows.iterrows():\n",
    "        x, mc = row.values.reshape(7,1), class_feature_means[c].values.reshape(7,1)\n",
    "        s += (x - mc).dot((x - mc).T)\n",
    "        within_class_scatter_matrix += s"
   ]
  },
  {
   "cell_type": "code",
   "execution_count": 73,
   "metadata": {},
   "outputs": [],
   "source": [
    "feature_means = seed_df.drop(['class'], axis=1).mean()\n",
    "between_class_scatter_matrix = np.zeros((7,7))\n",
    "for c in class_feature_means:    \n",
    "    n = len(seed_df.loc[seed_df['class'] == c].index)\n",
    "    \n",
    "    mc, m = class_feature_means[c].values.reshape(7,1), feature_means.values.reshape(7,1)\n",
    "    \n",
    "    between_class_scatter_matrix += n * (mc - m).dot((mc - m).T)"
   ]
  },
  {
   "cell_type": "code",
   "execution_count": 75,
   "metadata": {},
   "outputs": [],
   "source": [
    "eigen_values, eigen_vectors = np.linalg.eig(np.linalg.inv(within_class_scatter_matrix).dot(between_class_scatter_matrix))"
   ]
  },
  {
   "cell_type": "code",
   "execution_count": 76,
   "metadata": {},
   "outputs": [
    {
     "name": "stdout",
     "output_type": "stream",
     "text": [
      "58.53105242898621\n",
      "0.2680788855678763\n",
      "2.4626670627942743e-12\n",
      "1.334581357868993e-13\n",
      "3.2810448314747586e-15\n",
      "3.2810448314747586e-15\n",
      "3.323470932973632e-16\n"
     ]
    }
   ],
   "source": [
    "pairs = [(np.abs(eigen_values[i]), eigen_vectors[:,i]) for i in range(len(eigen_values))]\n",
    "pairs = sorted(pairs, key=lambda x: x[0], reverse=True)\n",
    "for pair in pairs:\n",
    "    print(pair[0])"
   ]
  },
  {
   "cell_type": "code",
   "execution_count": 77,
   "metadata": {},
   "outputs": [
    {
     "name": "stdout",
     "output_type": "stream",
     "text": [
      "Explained Variance\n",
      "Eigenvector 0: 0.9954407679233995\n",
      "Eigenvector 1: 0.004559232076640075\n",
      "Eigenvector 2: 4.1882711661503873e-14\n",
      "Eigenvector 3: 2.269729718844856e-15\n",
      "Eigenvector 4: 5.58009065460931e-17\n",
      "Eigenvector 5: 5.58009065460931e-17\n",
      "Eigenvector 6: 5.6522449544269565e-18\n"
     ]
    }
   ],
   "source": [
    "eigen_value_sums = sum(eigen_values)\n",
    "print('Explained Variance')\n",
    "for i, pair in enumerate(pairs):\n",
    "    print('Eigenvector {}: {}'.format(i, (pair[0]/eigen_value_sums).real))"
   ]
  },
  {
   "cell_type": "code",
   "execution_count": 79,
   "metadata": {},
   "outputs": [],
   "source": [
    "w_matrix = np.hstack((pairs[0][1].reshape(7,1), pairs[1][1].reshape(7,1))).real"
   ]
  },
  {
   "cell_type": "code",
   "execution_count": null,
   "metadata": {},
   "outputs": [],
   "source": []
  },
  {
   "cell_type": "code",
   "execution_count": 44,
   "metadata": {},
   "outputs": [
    {
     "name": "stdout",
     "output_type": "stream",
     "text": [
      "MV 1: [-0.1654 -0.1793  0.3187 -0.2322 -0.0459 -0.6988 -0.6057]\n",
      "\n",
      "MV 2: [1.3464e+00 1.3496e+00 6.0032e-01 1.3262e+00 1.2516e+00 1.0571e-03\n",
      " 1.4069e+00]\n",
      "\n",
      "MV 3: [-0.9332 -0.9224 -0.7937 -0.8525 -0.9713  0.6715 -0.5586]\n",
      "\n"
     ]
    }
   ],
   "source": [
    ">>> np.set_printoptions(precision=4)\n",
    ">>> mean_vecs = []\n",
    ">>> for label in range(1,4):\n",
    "...     mean_vecs.append(np.mean(\n",
    "...                X_train_std[y_train==label], axis=0))\n",
    "...     print('MV %s: %s\\n' %(label, mean_vecs[label-1]))"
   ]
  },
  {
   "cell_type": "code",
   "execution_count": 45,
   "metadata": {},
   "outputs": [
    {
     "name": "stdout",
     "output_type": "stream",
     "text": [
      "Within-class scatter matrix: 7x7\n"
     ]
    }
   ],
   "source": [
    ">>> d = 7 # number of features\n",
    ">>> S_W = np.zeros((d, d))\n",
    ">>> for label,mv in zip(range(1,4), mean_vecs):\n",
    "...     class_scatter = np.zeros((d, d)) \n",
    "...     for row in X_train[y_train == label]:\n",
    "...         row, mv = row.reshape(d, 1), mv.reshape(d, 1) \n",
    "...         class_scatter += (row-mv).dot((row-mv).T)\n",
    "...     S_W += class_scatter                             \n",
    ">>> print('Within-class scatter matrix: %sx%s'\n",
    "...        % (S_W.shape[0], S_W.shape[1]))"
   ]
  },
  {
   "cell_type": "code",
   "execution_count": 46,
   "metadata": {},
   "outputs": [
    {
     "name": "stdout",
     "output_type": "stream",
     "text": [
      "Class label distribution: [51 43 53]\n"
     ]
    }
   ],
   "source": [
    ">>> print('Class label distribution: %s' \n",
    "...       % np.bincount(y_train)[1:])"
   ]
  },
  {
   "cell_type": "code",
   "execution_count": 47,
   "metadata": {},
   "outputs": [
    {
     "name": "stdout",
     "output_type": "stream",
     "text": [
      "Scaled within-class scatter matrix: 7x7\n"
     ]
    }
   ],
   "source": [
    ">>> d = 7 # number of features\n",
    ">>> S_W = np.zeros((d, d))\n",
    ">>> for label,mv in zip(range(1, 4), mean_vecs):\n",
    "...     class_scatter = np.cov(X_train_std[y_train==label].T)\n",
    "...     S_W += class_scatter\n",
    ">>> print('Scaled within-class scatter matrix: %sx%s' \n",
    "...       % (S_W.shape[0], S_W.shape[1]))"
   ]
  },
  {
   "cell_type": "code",
   "execution_count": 49,
   "metadata": {},
   "outputs": [
    {
     "name": "stdout",
     "output_type": "stream",
     "text": [
      "Between-class scatter matrix: 7x7\n"
     ]
    }
   ],
   "source": [
    ">>> mean_overall = np.mean(X_train_std, axis=0)\n",
    ">>> d = 7 # number of features\n",
    ">>> S_B = np.zeros((d, d))\n",
    ">>> for i,mean_vec in enumerate(mean_vecs):\n",
    "...     n = X_train[y_train==i+1, :].shape[0]\n",
    "...     mean_vec = mean_vec.reshape(d, 1)\n",
    "...     mean_overall = mean_overall.reshape(d, 1) \n",
    "    S_B += n * (mean_vec - mean_overall).dot(\n",
    "...                (mean_vec - mean_overall).T)\n",
    "print('Between-class scatter matrix: %sx%s' \n",
    "...    % (S_B.shape[0], S_B.shape[1]))"
   ]
  },
  {
   "cell_type": "code",
   "execution_count": 51,
   "metadata": {},
   "outputs": [],
   "source": [
    "eigen_vals, eigen_vecs = np.linalg.eig(np.linalg.inv(S_W).dot(S_B))"
   ]
  },
  {
   "cell_type": "code",
   "execution_count": 52,
   "metadata": {},
   "outputs": [
    {
     "name": "stdout",
     "output_type": "stream",
     "text": [
      "Eigenvalues in decreasing order:\n",
      "\n",
      "326.5819031132867\n",
      "138.0809896766574\n",
      "4.857169213671259e-12\n",
      "2.4014771008651565e-12\n",
      "1.6399965163856718e-13\n",
      "1.6399965163856718e-13\n",
      "2.5841578028465118e-14\n"
     ]
    }
   ],
   "source": [
    ">>> eigen_pairs = [(np.abs(eigen_vals[i]), eigen_vecs[:,i]) \n",
    "...              for i in range(len(eigen_vals))]\n",
    ">>> eigen_pairs = sorted(eigen_pairs, \n",
    "...               key=lambda k: k[0], reverse=True)\n",
    ">>> print('Eigenvalues in decreasing order:\\n')\n",
    ">>> for eigen_val in eigen_pairs:\n",
    "...     print(eigen_val[0])"
   ]
  },
  {
   "cell_type": "code",
   "execution_count": null,
   "metadata": {},
   "outputs": [],
   "source": [
    "eigen_value_sums = sum(eigen_values)\n",
    "print('Explained Variance')\n",
    "for i, pair in enumerate(pairs):\n",
    "    print('Eigenvector {}: {}'.format(i, (pair[0]/eigen_value_sums).real))"
   ]
  },
  {
   "cell_type": "code",
   "execution_count": null,
   "metadata": {},
   "outputs": [],
   "source": []
  },
  {
   "cell_type": "code",
   "execution_count": 89,
   "metadata": {},
   "outputs": [
    {
     "data": {
      "text/plain": [
       "[0.7028362027198064,\n",
       " 0.2971637972801878,\n",
       " 1.0453103290662306e-14,\n",
       " 2.9159385767992e-16,\n",
       " 2.9159385767992e-16,\n",
       " 5.561360381782612e-17,\n",
       " -5.168213640745263e-15]"
      ]
     },
     "execution_count": 89,
     "metadata": {},
     "output_type": "execute_result"
    }
   ],
   "source": [
    "discr"
   ]
  },
  {
   "cell_type": "code",
   "execution_count": null,
   "metadata": {},
   "outputs": [],
   "source": []
  },
  {
   "cell_type": "code",
   "execution_count": 55,
   "metadata": {},
   "outputs": [
    {
     "name": "stdout",
     "output_type": "stream",
     "text": [
      "Matrix W:\n",
      " [[-0.4673  0.6684]\n",
      " [-0.2699 -0.6687]\n",
      " [ 0.0713 -0.1144]\n",
      " [ 0.5993 -0.201 ]\n",
      " [-0.1332  0.0397]\n",
      " [ 0.0481  0.0335]\n",
      " [-0.5697  0.2234]]\n"
     ]
    }
   ],
   "source": [
    ">>> w = np.hstack((eigen_pairs[0][1][:, np.newaxis].real,\n",
    "...                eigen_pairs[1][1][:, np.newaxis].real))\n",
    ">>> print('Matrix W:\\n', w)"
   ]
  },
  {
   "cell_type": "code",
   "execution_count": 57,
   "metadata": {},
   "outputs": [
    {
     "data": {
      "image/png": "[encoded data removed]",
      "text/plain": [
       "<Figure size 432x288 with 1 Axes>"
      ]
     },
     "metadata": {},
     "output_type": "display_data"
    }
   ],
   "source": [
    "X_train_lda = X_train_std.dot(w)\n",
    "colors = ['r', 'b', 'g']\n",
    "markers = ['s', 'x', 'o']\n",
    "for l, c, m in zip(np.unique(y_train), colors, markers):\n",
    "    plt.scatter(X_train_lda[y_train==l, 0]*(-1), X_train_lda[y_train==l, 1]*(-1), c=c, label=l, marker=m)\n",
    "plt.xlabel('LD 1')\n",
    "plt.ylabel('LD 2')\n",
    "plt.legend(loc='lower right')\n",
    "plt.show()"
   ]
  },
  {
   "cell_type": "code",
   "execution_count": 97,
   "metadata": {},
   "outputs": [
    {
     "data": {
      "image/png": "[encoded data removed]",
      "text/plain": [
       "<Figure size 576x576 with 1 Axes>"
      ]
     },
     "metadata": {},
     "output_type": "display_data"
    }
   ],
   "source": [
    "fig = plt.figure(figsize = (8, 8))\n",
    "ax = fig.add_subplot(1, 1, 1)\n",
    "ax.set_xlabel('LD1', fontsize=12)\n",
    "ax.set_ylabel('LD2', fontsize=12)\n",
    "ax.set_title('Seeds Dataset LDA (2 linear discriminants)', fontsize=18)\n",
    "classes = [1, 2, 3]\n",
    "colors = ['c', 'm', 'y']\n",
    "markers = ['o', 'o', 'o']\n",
    "for l, c, m in zip(np.unique(y_train), colors, markers):\n",
    "    plt.scatter(X_train_lda[y_train==l, 0]*(-1), X_train_lda[y_train==l, 1]*(-1), c=c, label=l, marker=m)\n",
    "plt.xlabel('LD 1')\n",
    "plt.ylabel('LD 2')\n",
    "plt.legend(loc='upper left')\n",
    "plt.show()"
   ]
  },
  {
   "cell_type": "code",
   "execution_count": null,
   "metadata": {},
   "outputs": [],
   "source": []
  }
 ],
 "metadata": {
  "kernelspec": {
   "display_name": "Python 3",
   "language": "python",
   "name": "python3"
  },
  "language_info": {
   "codemirror_mode": {
    "name": "ipython",
    "version": 3
   },
   "file_extension": ".py",
   "mimetype": "text/x-python",
   "name": "python",
   "nbconvert_exporter": "python",
   "pygments_lexer": "ipython3",
   "version": "3.8.5"
  }
 },
 "nbformat": 4,
 "nbformat_minor": 4
}
